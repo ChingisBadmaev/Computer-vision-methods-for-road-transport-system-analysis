{
 "cells": [
  {
   "cell_type": "code",
   "execution_count": null,
   "metadata": {},
   "outputs": [],
   "source": [
    "import cv2\n",
    "import numpy as np"
   ]
  },
  {
   "cell_type": "code",
   "execution_count": null,
   "metadata": {},
   "outputs": [],
   "source": [
    "cap = cv2.VideoCapture('test_data/573.mp4')\n",
    "car_cascade = cv2.CascadeClassifier('cars.xml')"
   ]
  },
  {
   "cell_type": "code",
   "execution_count": null,
   "metadata": {},
   "outputs": [],
   "source": [
    "while True:\n",
    "    ret, frames = cap.read()      #reads frames from a video\n",
    "    gray = cv2.cvtColor(frames, cv2.COLOR_BGR2GRAY)      # convert to gray scale of each frames\n",
    "            \n",
    "    cars = car_cascade.detectMultiScale(gray, 1.1, 1)     #Detect cars of different sizes in the input image.\n",
    "\n",
    "    for (x,y,w,h) in cars:\n",
    "        cv2.rectangle(frames, (x,y), (x+w,y+h),(0,0,255),2)       # To draw a rectangle\n",
    "        cv2.imshow('car detection' , frames)               #display frames in a window\n",
    "\n",
    "    if cv2.waitKey(1) & 0xFF == ord('b'):\n",
    "        break"
   ]
  },
  {
   "cell_type": "code",
   "execution_count": null,
   "metadata": {},
   "outputs": [],
   "source": []
  }
 ],
 "metadata": {
  "kernelspec": {
   "display_name": "Python 3",
   "language": "python",
   "name": "python3"
  },
  "language_info": {
   "codemirror_mode": {
    "name": "ipython",
    "version": 3
   },
   "file_extension": ".py",
   "mimetype": "text/x-python",
   "name": "python",
   "nbconvert_exporter": "python",
   "pygments_lexer": "ipython3",
   "version": "3.8.3"
  }
 },
 "nbformat": 4,
 "nbformat_minor": 4
}
